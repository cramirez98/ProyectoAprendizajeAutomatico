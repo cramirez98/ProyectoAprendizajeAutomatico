{
  "nbformat": 4,
  "nbformat_minor": 0,
  "metadata": {
    "colab": {
      "name": "ProyectoAprendizajeAutomatico.ipynb",
      "provenance": [],
      "collapsed_sections": [],
      "include_colab_link": true
    },
    "kernelspec": {
      "name": "python3",
      "display_name": "Python 3"
    },
    "language_info": {
      "name": "python"
    }
  },
  "cells": [
    {
      "cell_type": "markdown",
      "metadata": {
        "id": "view-in-github",
        "colab_type": "text"
      },
      "source": [
        "<a href=\"https://colab.research.google.com/github/cramirez98/ProyectoAprendizajeAutomatico/blob/main/ProyectoAprendizajeAutomatico.ipynb\" target=\"_parent\"><img src=\"https://colab.research.google.com/assets/colab-badge.svg\" alt=\"Open In Colab\"/></a>"
      ]
    },
    {
      "cell_type": "code",
      "source": [
        "from google.colab import output"
      ],
      "metadata": {
        "id": "62D47JG9IXAR"
      },
      "execution_count": null,
      "outputs": []
    },
    {
      "cell_type": "code",
      "source": [
        "from google.colab import drive\n",
        "drive.mount('/content/gdrive')"
      ],
      "metadata": {
        "colab": {
          "base_uri": "https://localhost:8080/"
        },
        "id": "v7aW2xI4coPa",
        "outputId": "9b80630a-5e40-432b-fea1-e4d2d50bf66c"
      },
      "execution_count": null,
      "outputs": [
        {
          "output_type": "stream",
          "name": "stdout",
          "text": [
            "Mounted at /content/gdrive\n"
          ]
        }
      ]
    },
    {
      "cell_type": "code",
      "source": [
        "!git clone https://github.com/cramirez98/ProyectoAprendizajeAutomatico.git"
      ],
      "metadata": {
        "colab": {
          "base_uri": "https://localhost:8080/"
        },
        "id": "2VQ9b09slu8y",
        "outputId": "43d36c82-9abb-4b1e-92b7-16ef4d4101cc"
      },
      "execution_count": null,
      "outputs": [
        {
          "output_type": "stream",
          "name": "stdout",
          "text": [
            "Cloning into 'ProyectoAprendizajeAutomatico'...\n",
            "remote: Enumerating objects: 30, done.\u001b[K\n",
            "remote: Counting objects: 100% (30/30), done.\u001b[K\n",
            "remote: Compressing objects: 100% (24/24), done.\u001b[K\n",
            "remote: Total 30 (delta 10), reused 22 (delta 4), pack-reused 0\u001b[K\n",
            "Unpacking objects: 100% (30/30), done.\n"
          ]
        }
      ]
    },
    {
      "cell_type": "code",
      "source": [
        "!python3 ProyectoAprendizajeAutomatico/paquetes.py"
      ],
      "metadata": {
        "colab": {
          "base_uri": "https://localhost:8080/"
        },
        "id": "QtmAvxwcksgE",
        "outputId": "c03450fe-e1fd-489b-aa96-4882f47bfadb"
      },
      "execution_count": null,
      "outputs": [
        {
          "output_type": "stream",
          "name": "stdout",
          "text": [
            "La lista de paquetes se cargo correctamente\n"
          ]
        }
      ]
    },
    {
      "cell_type": "code",
      "execution_count": null,
      "metadata": {
        "id": "v-stSF-HckAR"
      },
      "outputs": [],
      "source": [
        "%load_ext rpy2.ipython"
      ]
    },
    {
      "cell_type": "code",
      "source": [
        "%R start_time <- Sys.time()\n",
        "%R package_list <- read.csv(\"paquetes.csv\", header= T)$PAQUETES\n",
        "%R missin_packages <- package_list[!(package_list %in% installed.packages()[,\"Package\"])]\n",
        "\n",
        "%R if(length(missin_packages)) install.packages(missin_packages)\n",
        "output.clear()\n",
        "\n",
        "%R lapply(package_list, require, character.only = TRUE)\n",
        "\n",
        "%R end_time <- Sys.time()\n",
        "%R end_time - start_time)"
      ],
      "metadata": {
        "id": "JIhRUtKBmpVZ",
        "colab": {
          "base_uri": "https://localhost:8080/",
          "height": 1000
        },
        "outputId": "014e88be-94dd-4276-abfb-dd878b56f16d"
      },
      "execution_count": null,
      "outputs": [
        {
          "output_type": "stream",
          "name": "stderr",
          "text": [
            "R[write to console]: Loading required package: GGally\n",
            "\n",
            "R[write to console]: Loading required package: ggplot2\n",
            "\n",
            "R[write to console]: Registered S3 method overwritten by 'GGally':\n",
            "  method from   \n",
            "  +.gg   ggplot2\n",
            "\n",
            "R[write to console]: Loading required package: corrplot\n",
            "\n",
            "R[write to console]: corrplot 0.92 loaded\n",
            "\n",
            "R[write to console]: Loading required package: gridExtra\n",
            "\n",
            "R[write to console]: Loading required package: caret\n",
            "\n",
            "R[write to console]: Loading required package: lattice\n",
            "\n",
            "R[write to console]: Loading required package: fastDummies\n",
            "\n",
            "R[write to console]: Loading required package: e1071\n",
            "\n",
            "R[write to console]: Loading required package: rpart.plot\n",
            "\n",
            "R[write to console]: Loading required package: rpart\n",
            "\n",
            "R[write to console]: Loading required package: ROCR\n",
            "\n",
            "R[write to console]: Loading required package: pROC\n",
            "\n",
            "R[write to console]: Type 'citation(\"pROC\")' for a citation.\n",
            "\n",
            "R[write to console]: \n",
            "Attaching package: ‘pROC’\n",
            "\n",
            "\n",
            "R[write to console]: The following objects are masked from ‘package:stats’:\n",
            "\n",
            "    cov, smooth, var\n",
            "\n",
            "\n",
            "R[write to console]: Loading required package: ggvis\n",
            "\n",
            "R[write to console]: \n",
            "Attaching package: ‘ggvis’\n",
            "\n",
            "\n",
            "R[write to console]: The following object is masked from ‘package:ggplot2’:\n",
            "\n",
            "    resolution\n",
            "\n",
            "\n",
            "R[write to console]: Loading required package: DT\n",
            "\n",
            "R[write to console]: Loading required package: rminer\n",
            "\n",
            "R[write to console]: Loading required package: klaR\n",
            "\n",
            "R[write to console]: Loading required package: MASS\n",
            "\n",
            "R[write to console]: Loading required package: plotly\n",
            "\n",
            "R[write to console]: \n",
            "Attaching package: ‘plotly’\n",
            "\n",
            "\n",
            "R[write to console]: The following object is masked from ‘package:MASS’:\n",
            "\n",
            "    select\n",
            "\n",
            "\n",
            "R[write to console]: The following objects are masked from ‘package:ggvis’:\n",
            "\n",
            "    add_data, hide_legend\n",
            "\n",
            "\n",
            "R[write to console]: The following object is masked from ‘package:ggplot2’:\n",
            "\n",
            "    last_plot\n",
            "\n",
            "\n",
            "R[write to console]: The following object is masked from ‘package:stats’:\n",
            "\n",
            "    filter\n",
            "\n",
            "\n",
            "R[write to console]: The following object is masked from ‘package:graphics’:\n",
            "\n",
            "    layout\n",
            "\n",
            "\n",
            "R[write to console]: Loading required package: viridis\n",
            "\n",
            "R[write to console]: Loading required package: viridisLite\n",
            "\n",
            "R[write to console]: Loading required package: Metrics\n",
            "\n",
            "R[write to console]: \n",
            "Attaching package: ‘Metrics’\n",
            "\n",
            "\n",
            "R[write to console]: The following object is masked from ‘package:pROC’:\n",
            "\n",
            "    auc\n",
            "\n",
            "\n",
            "R[write to console]: The following objects are masked from ‘package:caret’:\n",
            "\n",
            "    precision, recall\n",
            "\n",
            "\n",
            "R[write to console]: Loading required package: glmnet\n",
            "\n",
            "R[write to console]: Loading required package: Matrix\n",
            "\n",
            "R[write to console]: \n",
            "Attaching package: ‘Matrix’\n",
            "\n",
            "\n",
            "R[write to console]: The following object is masked from ‘package:ggvis’:\n",
            "\n",
            "    band\n",
            "\n",
            "\n",
            "R[write to console]: Loaded glmnet 4.1-3\n",
            "\n",
            "R[write to console]: Loading required package: formattable\n",
            "\n",
            "R[write to console]: \n",
            "Attaching package: ‘formattable’\n",
            "\n",
            "\n",
            "R[write to console]: The following object is masked from ‘package:plotly’:\n",
            "\n",
            "    style\n",
            "\n",
            "\n",
            "R[write to console]: The following object is masked from ‘package:MASS’:\n",
            "\n",
            "    area\n",
            "\n",
            "\n",
            "R[write to console]: Loading required package: ggthemes\n",
            "\n",
            "R[write to console]: Loading required package: reshape2\n",
            "\n",
            "R[write to console]: Loading required package: randomForest\n",
            "\n",
            "R[write to console]: randomForest 4.7-1\n",
            "\n",
            "R[write to console]: Type rfNews() to see new features/changes/bug fixes.\n",
            "\n",
            "R[write to console]: \n",
            "Attaching package: ‘randomForest’\n",
            "\n",
            "\n",
            "R[write to console]: The following object is masked from ‘package:gridExtra’:\n",
            "\n",
            "    combine\n",
            "\n",
            "\n",
            "R[write to console]: The following object is masked from ‘package:ggplot2’:\n",
            "\n",
            "    margin\n",
            "\n",
            "\n",
            "R[write to console]: Loading required package: xgboost\n",
            "\n",
            "R[write to console]: \n",
            "Attaching package: ‘xgboost’\n",
            "\n",
            "\n",
            "R[write to console]: The following object is masked from ‘package:plotly’:\n",
            "\n",
            "    slice\n",
            "\n",
            "\n",
            "R[write to console]: Loading required package: Ckmeans.1d.dp\n",
            "\n",
            "R[write to console]: Loading required package: sparkline\n",
            "\n",
            "R[write to console]: Loading required package: skimr\n",
            "\n",
            "R[write to console]: Loading required package: corrgram\n",
            "\n",
            "R[write to console]: \n",
            "Attaching package: ‘corrgram’\n",
            "\n",
            "\n",
            "R[write to console]: The following object is masked from ‘package:lattice’:\n",
            "\n",
            "    panel.fill\n",
            "\n",
            "\n",
            "R[write to console]: Loading required package: openxlsx\n",
            "\n"
          ]
        },
        {
          "output_type": "error",
          "ename": "ValueError",
          "evalue": "ignored",
          "traceback": [
            "\u001b[0;31m---------------------------------------------------------------------------\u001b[0m",
            "\u001b[0;31mValueError\u001b[0m                                Traceback (most recent call last)",
            "\u001b[0;32m<ipython-input-5-bb025394d896>\u001b[0m in \u001b[0;36m<module>\u001b[0;34m()\u001b[0m\n\u001b[1;32m      9\u001b[0m \u001b[0;34m\u001b[0m\u001b[0m\n\u001b[1;32m     10\u001b[0m \u001b[0mget_ipython\u001b[0m\u001b[0;34m(\u001b[0m\u001b[0;34m)\u001b[0m\u001b[0;34m.\u001b[0m\u001b[0mmagic\u001b[0m\u001b[0;34m(\u001b[0m\u001b[0;34m'R end_time <- Sys.time()'\u001b[0m\u001b[0;34m)\u001b[0m\u001b[0;34m\u001b[0m\u001b[0;34m\u001b[0m\u001b[0m\n\u001b[0;32m---> 11\u001b[0;31m \u001b[0mget_ipython\u001b[0m\u001b[0;34m(\u001b[0m\u001b[0;34m)\u001b[0m\u001b[0;34m.\u001b[0m\u001b[0mmagic\u001b[0m\u001b[0;34m(\u001b[0m\u001b[0;34m\"R print(paste('Tiempo de ejecucion: ', end_time - start_time))\"\u001b[0m\u001b[0;34m)\u001b[0m\u001b[0;34m\u001b[0m\u001b[0;34m\u001b[0m\u001b[0m\n\u001b[0m",
            "\u001b[0;32m/usr/local/lib/python3.7/dist-packages/IPython/core/interactiveshell.py\u001b[0m in \u001b[0;36mmagic\u001b[0;34m(self, arg_s)\u001b[0m\n\u001b[1;32m   2158\u001b[0m         \u001b[0mmagic_name\u001b[0m\u001b[0;34m,\u001b[0m \u001b[0m_\u001b[0m\u001b[0;34m,\u001b[0m \u001b[0mmagic_arg_s\u001b[0m \u001b[0;34m=\u001b[0m \u001b[0marg_s\u001b[0m\u001b[0;34m.\u001b[0m\u001b[0mpartition\u001b[0m\u001b[0;34m(\u001b[0m\u001b[0;34m' '\u001b[0m\u001b[0;34m)\u001b[0m\u001b[0;34m\u001b[0m\u001b[0;34m\u001b[0m\u001b[0m\n\u001b[1;32m   2159\u001b[0m         \u001b[0mmagic_name\u001b[0m \u001b[0;34m=\u001b[0m \u001b[0mmagic_name\u001b[0m\u001b[0;34m.\u001b[0m\u001b[0mlstrip\u001b[0m\u001b[0;34m(\u001b[0m\u001b[0mprefilter\u001b[0m\u001b[0;34m.\u001b[0m\u001b[0mESC_MAGIC\u001b[0m\u001b[0;34m)\u001b[0m\u001b[0;34m\u001b[0m\u001b[0;34m\u001b[0m\u001b[0m\n\u001b[0;32m-> 2160\u001b[0;31m         \u001b[0;32mreturn\u001b[0m \u001b[0mself\u001b[0m\u001b[0;34m.\u001b[0m\u001b[0mrun_line_magic\u001b[0m\u001b[0;34m(\u001b[0m\u001b[0mmagic_name\u001b[0m\u001b[0;34m,\u001b[0m \u001b[0mmagic_arg_s\u001b[0m\u001b[0;34m)\u001b[0m\u001b[0;34m\u001b[0m\u001b[0;34m\u001b[0m\u001b[0m\n\u001b[0m\u001b[1;32m   2161\u001b[0m \u001b[0;34m\u001b[0m\u001b[0m\n\u001b[1;32m   2162\u001b[0m     \u001b[0;31m#-------------------------------------------------------------------------\u001b[0m\u001b[0;34m\u001b[0m\u001b[0;34m\u001b[0m\u001b[0;34m\u001b[0m\u001b[0m\n",
            "\u001b[0;32m/usr/local/lib/python3.7/dist-packages/IPython/core/interactiveshell.py\u001b[0m in \u001b[0;36mrun_line_magic\u001b[0;34m(self, magic_name, line)\u001b[0m\n\u001b[1;32m   2079\u001b[0m                 \u001b[0mkwargs\u001b[0m\u001b[0;34m[\u001b[0m\u001b[0;34m'local_ns'\u001b[0m\u001b[0;34m]\u001b[0m \u001b[0;34m=\u001b[0m \u001b[0msys\u001b[0m\u001b[0;34m.\u001b[0m\u001b[0m_getframe\u001b[0m\u001b[0;34m(\u001b[0m\u001b[0mstack_depth\u001b[0m\u001b[0;34m)\u001b[0m\u001b[0;34m.\u001b[0m\u001b[0mf_locals\u001b[0m\u001b[0;34m\u001b[0m\u001b[0;34m\u001b[0m\u001b[0m\n\u001b[1;32m   2080\u001b[0m             \u001b[0;32mwith\u001b[0m \u001b[0mself\u001b[0m\u001b[0;34m.\u001b[0m\u001b[0mbuiltin_trap\u001b[0m\u001b[0;34m:\u001b[0m\u001b[0;34m\u001b[0m\u001b[0;34m\u001b[0m\u001b[0m\n\u001b[0;32m-> 2081\u001b[0;31m                 \u001b[0mresult\u001b[0m \u001b[0;34m=\u001b[0m \u001b[0mfn\u001b[0m\u001b[0;34m(\u001b[0m\u001b[0;34m*\u001b[0m\u001b[0margs\u001b[0m\u001b[0;34m,\u001b[0m\u001b[0;34m**\u001b[0m\u001b[0mkwargs\u001b[0m\u001b[0;34m)\u001b[0m\u001b[0;34m\u001b[0m\u001b[0;34m\u001b[0m\u001b[0m\n\u001b[0m\u001b[1;32m   2082\u001b[0m             \u001b[0;32mreturn\u001b[0m \u001b[0mresult\u001b[0m\u001b[0;34m\u001b[0m\u001b[0;34m\u001b[0m\u001b[0m\n\u001b[1;32m   2083\u001b[0m \u001b[0;34m\u001b[0m\u001b[0m\n",
            "\u001b[0;32m<decorator-gen-119>\u001b[0m in \u001b[0;36mR\u001b[0;34m(self, line, cell, local_ns)\u001b[0m\n",
            "\u001b[0;32m/usr/local/lib/python3.7/dist-packages/IPython/core/magic.py\u001b[0m in \u001b[0;36m<lambda>\u001b[0;34m(f, *a, **k)\u001b[0m\n\u001b[1;32m    186\u001b[0m     \u001b[0;31m# but it's overkill for just that one bit of state.\u001b[0m\u001b[0;34m\u001b[0m\u001b[0;34m\u001b[0m\u001b[0;34m\u001b[0m\u001b[0m\n\u001b[1;32m    187\u001b[0m     \u001b[0;32mdef\u001b[0m \u001b[0mmagic_deco\u001b[0m\u001b[0;34m(\u001b[0m\u001b[0marg\u001b[0m\u001b[0;34m)\u001b[0m\u001b[0;34m:\u001b[0m\u001b[0;34m\u001b[0m\u001b[0;34m\u001b[0m\u001b[0m\n\u001b[0;32m--> 188\u001b[0;31m         \u001b[0mcall\u001b[0m \u001b[0;34m=\u001b[0m \u001b[0;32mlambda\u001b[0m \u001b[0mf\u001b[0m\u001b[0;34m,\u001b[0m \u001b[0;34m*\u001b[0m\u001b[0ma\u001b[0m\u001b[0;34m,\u001b[0m \u001b[0;34m**\u001b[0m\u001b[0mk\u001b[0m\u001b[0;34m:\u001b[0m \u001b[0mf\u001b[0m\u001b[0;34m(\u001b[0m\u001b[0;34m*\u001b[0m\u001b[0ma\u001b[0m\u001b[0;34m,\u001b[0m \u001b[0;34m**\u001b[0m\u001b[0mk\u001b[0m\u001b[0;34m)\u001b[0m\u001b[0;34m\u001b[0m\u001b[0;34m\u001b[0m\u001b[0m\n\u001b[0m\u001b[1;32m    189\u001b[0m \u001b[0;34m\u001b[0m\u001b[0m\n\u001b[1;32m    190\u001b[0m         \u001b[0;32mif\u001b[0m \u001b[0mcallable\u001b[0m\u001b[0;34m(\u001b[0m\u001b[0marg\u001b[0m\u001b[0;34m)\u001b[0m\u001b[0;34m:\u001b[0m\u001b[0;34m\u001b[0m\u001b[0;34m\u001b[0m\u001b[0m\n",
            "\u001b[0;32m/usr/local/lib/python3.7/dist-packages/rpy2/ipython/rmagic.py\u001b[0m in \u001b[0;36mR\u001b[0;34m(self, line, cell, local_ns)\u001b[0m\n\u001b[1;32m    688\u001b[0m         \"\"\"\n\u001b[1;32m    689\u001b[0m \u001b[0;34m\u001b[0m\u001b[0m\n\u001b[0;32m--> 690\u001b[0;31m         \u001b[0margs\u001b[0m \u001b[0;34m=\u001b[0m \u001b[0mparse_argstring\u001b[0m\u001b[0;34m(\u001b[0m\u001b[0mself\u001b[0m\u001b[0;34m.\u001b[0m\u001b[0mR\u001b[0m\u001b[0;34m,\u001b[0m \u001b[0mline\u001b[0m\u001b[0;34m)\u001b[0m\u001b[0;34m\u001b[0m\u001b[0;34m\u001b[0m\u001b[0m\n\u001b[0m\u001b[1;32m    691\u001b[0m \u001b[0;34m\u001b[0m\u001b[0m\n\u001b[1;32m    692\u001b[0m         \u001b[0;31m# arguments 'code' in line are prepended to\u001b[0m\u001b[0;34m\u001b[0m\u001b[0;34m\u001b[0m\u001b[0;34m\u001b[0m\u001b[0m\n",
            "\u001b[0;32m/usr/local/lib/python3.7/dist-packages/IPython/core/magic_arguments.py\u001b[0m in \u001b[0;36mparse_argstring\u001b[0;34m(magic_func, argstring)\u001b[0m\n\u001b[1;32m    162\u001b[0m     \"\"\" Parse the string of arguments for the given magic function.\n\u001b[1;32m    163\u001b[0m     \"\"\"\n\u001b[0;32m--> 164\u001b[0;31m     \u001b[0;32mreturn\u001b[0m \u001b[0mmagic_func\u001b[0m\u001b[0;34m.\u001b[0m\u001b[0mparser\u001b[0m\u001b[0;34m.\u001b[0m\u001b[0mparse_argstring\u001b[0m\u001b[0;34m(\u001b[0m\u001b[0margstring\u001b[0m\u001b[0;34m)\u001b[0m\u001b[0;34m\u001b[0m\u001b[0;34m\u001b[0m\u001b[0m\n\u001b[0m\u001b[1;32m    165\u001b[0m \u001b[0;34m\u001b[0m\u001b[0m\n\u001b[1;32m    166\u001b[0m \u001b[0;34m\u001b[0m\u001b[0m\n",
            "\u001b[0;32m/usr/local/lib/python3.7/dist-packages/IPython/core/magic_arguments.py\u001b[0m in \u001b[0;36mparse_argstring\u001b[0;34m(self, argstring)\u001b[0m\n\u001b[1;32m    133\u001b[0m         \"\"\" Split a string into an argument list and parse that argument list.\n\u001b[1;32m    134\u001b[0m         \"\"\"\n\u001b[0;32m--> 135\u001b[0;31m         \u001b[0margv\u001b[0m \u001b[0;34m=\u001b[0m \u001b[0marg_split\u001b[0m\u001b[0;34m(\u001b[0m\u001b[0margstring\u001b[0m\u001b[0;34m)\u001b[0m\u001b[0;34m\u001b[0m\u001b[0;34m\u001b[0m\u001b[0m\n\u001b[0m\u001b[1;32m    136\u001b[0m         \u001b[0;32mreturn\u001b[0m \u001b[0mself\u001b[0m\u001b[0;34m.\u001b[0m\u001b[0mparse_args\u001b[0m\u001b[0;34m(\u001b[0m\u001b[0margv\u001b[0m\u001b[0;34m)\u001b[0m\u001b[0;34m\u001b[0m\u001b[0;34m\u001b[0m\u001b[0m\n\u001b[1;32m    137\u001b[0m \u001b[0;34m\u001b[0m\u001b[0m\n",
            "\u001b[0;32m/usr/local/lib/python3.7/dist-packages/IPython/utils/_process_common.py\u001b[0m in \u001b[0;36marg_split\u001b[0;34m(s, posix, strict)\u001b[0m\n\u001b[1;32m    208\u001b[0m     \u001b[0;32mwhile\u001b[0m \u001b[0;32mTrue\u001b[0m\u001b[0;34m:\u001b[0m\u001b[0;34m\u001b[0m\u001b[0;34m\u001b[0m\u001b[0m\n\u001b[1;32m    209\u001b[0m         \u001b[0;32mtry\u001b[0m\u001b[0;34m:\u001b[0m\u001b[0;34m\u001b[0m\u001b[0;34m\u001b[0m\u001b[0m\n\u001b[0;32m--> 210\u001b[0;31m             \u001b[0mtokens\u001b[0m\u001b[0;34m.\u001b[0m\u001b[0mappend\u001b[0m\u001b[0;34m(\u001b[0m\u001b[0mnext\u001b[0m\u001b[0;34m(\u001b[0m\u001b[0mlex\u001b[0m\u001b[0;34m)\u001b[0m\u001b[0;34m)\u001b[0m\u001b[0;34m\u001b[0m\u001b[0;34m\u001b[0m\u001b[0m\n\u001b[0m\u001b[1;32m    211\u001b[0m         \u001b[0;32mexcept\u001b[0m \u001b[0mStopIteration\u001b[0m\u001b[0;34m:\u001b[0m\u001b[0;34m\u001b[0m\u001b[0;34m\u001b[0m\u001b[0m\n\u001b[1;32m    212\u001b[0m             \u001b[0;32mbreak\u001b[0m\u001b[0;34m\u001b[0m\u001b[0;34m\u001b[0m\u001b[0m\n",
            "\u001b[0;32m/usr/lib/python3.7/shlex.py\u001b[0m in \u001b[0;36m__next__\u001b[0;34m(self)\u001b[0m\n\u001b[1;32m    297\u001b[0m \u001b[0;34m\u001b[0m\u001b[0m\n\u001b[1;32m    298\u001b[0m     \u001b[0;32mdef\u001b[0m \u001b[0m__next__\u001b[0m\u001b[0;34m(\u001b[0m\u001b[0mself\u001b[0m\u001b[0;34m)\u001b[0m\u001b[0;34m:\u001b[0m\u001b[0;34m\u001b[0m\u001b[0;34m\u001b[0m\u001b[0m\n\u001b[0;32m--> 299\u001b[0;31m         \u001b[0mtoken\u001b[0m \u001b[0;34m=\u001b[0m \u001b[0mself\u001b[0m\u001b[0;34m.\u001b[0m\u001b[0mget_token\u001b[0m\u001b[0;34m(\u001b[0m\u001b[0;34m)\u001b[0m\u001b[0;34m\u001b[0m\u001b[0;34m\u001b[0m\u001b[0m\n\u001b[0m\u001b[1;32m    300\u001b[0m         \u001b[0;32mif\u001b[0m \u001b[0mtoken\u001b[0m \u001b[0;34m==\u001b[0m \u001b[0mself\u001b[0m\u001b[0;34m.\u001b[0m\u001b[0meof\u001b[0m\u001b[0;34m:\u001b[0m\u001b[0;34m\u001b[0m\u001b[0;34m\u001b[0m\u001b[0m\n\u001b[1;32m    301\u001b[0m             \u001b[0;32mraise\u001b[0m \u001b[0mStopIteration\u001b[0m\u001b[0;34m\u001b[0m\u001b[0;34m\u001b[0m\u001b[0m\n",
            "\u001b[0;32m/usr/lib/python3.7/shlex.py\u001b[0m in \u001b[0;36mget_token\u001b[0;34m(self)\u001b[0m\n\u001b[1;32m    107\u001b[0m             \u001b[0;32mreturn\u001b[0m \u001b[0mtok\u001b[0m\u001b[0;34m\u001b[0m\u001b[0;34m\u001b[0m\u001b[0m\n\u001b[1;32m    108\u001b[0m         \u001b[0;31m# No pushback.  Get a token.\u001b[0m\u001b[0;34m\u001b[0m\u001b[0;34m\u001b[0m\u001b[0;34m\u001b[0m\u001b[0m\n\u001b[0;32m--> 109\u001b[0;31m         \u001b[0mraw\u001b[0m \u001b[0;34m=\u001b[0m \u001b[0mself\u001b[0m\u001b[0;34m.\u001b[0m\u001b[0mread_token\u001b[0m\u001b[0;34m(\u001b[0m\u001b[0;34m)\u001b[0m\u001b[0;34m\u001b[0m\u001b[0;34m\u001b[0m\u001b[0m\n\u001b[0m\u001b[1;32m    110\u001b[0m         \u001b[0;31m# Handle inclusions\u001b[0m\u001b[0;34m\u001b[0m\u001b[0;34m\u001b[0m\u001b[0;34m\u001b[0m\u001b[0m\n\u001b[1;32m    111\u001b[0m         \u001b[0;32mif\u001b[0m \u001b[0mself\u001b[0m\u001b[0;34m.\u001b[0m\u001b[0msource\u001b[0m \u001b[0;32mis\u001b[0m \u001b[0;32mnot\u001b[0m \u001b[0;32mNone\u001b[0m\u001b[0;34m:\u001b[0m\u001b[0;34m\u001b[0m\u001b[0;34m\u001b[0m\u001b[0m\n",
            "\u001b[0;32m/usr/lib/python3.7/shlex.py\u001b[0m in \u001b[0;36mread_token\u001b[0;34m(self)\u001b[0m\n\u001b[1;32m    189\u001b[0m                         \u001b[0mprint\u001b[0m\u001b[0;34m(\u001b[0m\u001b[0;34m\"shlex: I see EOF in quotes state\"\u001b[0m\u001b[0;34m)\u001b[0m\u001b[0;34m\u001b[0m\u001b[0;34m\u001b[0m\u001b[0m\n\u001b[1;32m    190\u001b[0m                     \u001b[0;31m# XXX what error should be raised here?\u001b[0m\u001b[0;34m\u001b[0m\u001b[0;34m\u001b[0m\u001b[0;34m\u001b[0m\u001b[0m\n\u001b[0;32m--> 191\u001b[0;31m                     \u001b[0;32mraise\u001b[0m \u001b[0mValueError\u001b[0m\u001b[0;34m(\u001b[0m\u001b[0;34m\"No closing quotation\"\u001b[0m\u001b[0;34m)\u001b[0m\u001b[0;34m\u001b[0m\u001b[0;34m\u001b[0m\u001b[0m\n\u001b[0m\u001b[1;32m    192\u001b[0m                 \u001b[0;32mif\u001b[0m \u001b[0mnextchar\u001b[0m \u001b[0;34m==\u001b[0m \u001b[0mself\u001b[0m\u001b[0;34m.\u001b[0m\u001b[0mstate\u001b[0m\u001b[0;34m:\u001b[0m\u001b[0;34m\u001b[0m\u001b[0;34m\u001b[0m\u001b[0m\n\u001b[1;32m    193\u001b[0m                     \u001b[0;32mif\u001b[0m \u001b[0;32mnot\u001b[0m \u001b[0mself\u001b[0m\u001b[0;34m.\u001b[0m\u001b[0mposix\u001b[0m\u001b[0;34m:\u001b[0m\u001b[0;34m\u001b[0m\u001b[0;34m\u001b[0m\u001b[0m\n",
            "\u001b[0;31mValueError\u001b[0m: No closing quotation"
          ]
        }
      ]
    },
    {
      "cell_type": "code",
      "source": [
        "%%R\n",
        "data <- read.xlsx(\"ProyectoAprendizajeAutomatico/Dataset/Dry_Bean_Dataset.xlsx\")\n",
        "head(data)"
      ],
      "metadata": {
        "id": "xdxcjq7N7T5G",
        "colab": {
          "base_uri": "https://localhost:8080/"
        },
        "outputId": "90e84301-9307-433e-a9bc-a37190b9960f"
      },
      "execution_count": null,
      "outputs": [
        {
          "output_type": "stream",
          "name": "stdout",
          "text": [
            "   Area Perimeter MajorAxisLength MinorAxisLength AspectRation Eccentricity\n",
            "1 28395   610.291        208.1781        173.8887     1.197191    0.5498122\n",
            "2 28734   638.018        200.5248        182.7344     1.097356    0.4117853\n",
            "3 29380   624.110        212.8261        175.9311     1.209713    0.5627273\n",
            "4 30008   645.884        210.5580        182.5165     1.153638    0.4986160\n",
            "5 30140   620.134        201.8479        190.2793     1.060798    0.3336797\n",
            "6 30279   634.927        212.5606        181.5102     1.171067    0.5204007\n",
            "  ConvexArea EquivDiameter    Extent  Solidity roundness Compactness\n",
            "1      28715      190.1411 0.7639225 0.9888560 0.9580271   0.9133578\n",
            "2      29172      191.2728 0.7839681 0.9849856 0.8870336   0.9538608\n",
            "3      29690      193.4109 0.7781132 0.9895588 0.9478495   0.9087742\n",
            "4      30724      195.4671 0.7826813 0.9766957 0.9039364   0.9283288\n",
            "5      30417      195.8965 0.7730980 0.9908933 0.9848771   0.9705155\n",
            "6      30600      196.3477 0.7756885 0.9895098 0.9438518   0.9237260\n",
            "  ShapeFactor1 ShapeFactor2 ShapeFactor3 ShapeFactor4 Class\n",
            "1  0.007331506  0.003147289    0.8342224    0.9987239 SEKER\n",
            "2  0.006978659  0.003563624    0.9098505    0.9984303 SEKER\n",
            "3  0.007243912  0.003047733    0.8258706    0.9990661 SEKER\n",
            "4  0.007016729  0.003214562    0.8617944    0.9941988 SEKER\n",
            "5  0.006697010  0.003664972    0.9419004    0.9991661 SEKER\n",
            "6  0.007020065  0.003152779    0.8532696    0.9992358 SEKER\n"
          ]
        }
      ]
    },
    {
      "cell_type": "markdown",
      "source": [
        "Como primer paso se cuenta la cantidad de datos faltantes que hay en el set de datos, donde se observa que ninguna variable posee datos faltantes "
      ],
      "metadata": {
        "id": "eICqKdP0XBWR"
      }
    },
    {
      "cell_type": "code",
      "source": [
        "%%R \n",
        "\n",
        "datos_faltanes <- data %>% lapply(function(x) sum(is.na(x))) %>%\n",
        "                            as.data.frame %>%\n",
        "                            t\n",
        "colnames(datos_faltanes) <- 'Datos Faltantes'\n",
        "datos_faltanes\n",
        "\n",
        "#datos_faltantes <- colnames(df)[2]t(as.data.frame(lapply(data, function(x) sum(is.na(x)))))"
      ],
      "metadata": {
        "id": "jezus4VrF8Rp",
        "colab": {
          "base_uri": "https://localhost:8080/"
        },
        "outputId": "1eb70c4b-567f-466f-d3a2-a4d276abb40e"
      },
      "execution_count": 29,
      "outputs": [
        {
          "output_type": "stream",
          "name": "stdout",
          "text": [
            "                Datos Faltantes\n",
            "Area                          0\n",
            "Perimeter                     0\n",
            "MajorAxisLength               0\n",
            "MinorAxisLength               0\n",
            "AspectRation                  0\n",
            "Eccentricity                  0\n",
            "ConvexArea                    0\n",
            "EquivDiameter                 0\n",
            "Extent                        0\n",
            "Solidity                      0\n",
            "roundness                     0\n",
            "Compactness                   0\n",
            "ShapeFactor1                  0\n",
            "ShapeFactor2                  0\n",
            "ShapeFactor3                  0\n",
            "ShapeFactor4                  0\n",
            "Class                         0\n"
          ]
        }
      ]
    },
    {
      "cell_type": "code",
      "source": [
        "%%R\n",
        "glimpse(data)"
      ],
      "metadata": {
        "colab": {
          "base_uri": "https://localhost:8080/"
        },
        "id": "22g07lwNa7PJ",
        "outputId": "c582d2cc-9262-459e-fed7-312e7b940559"
      },
      "execution_count": 40,
      "outputs": [
        {
          "output_type": "stream",
          "name": "stdout",
          "text": [
            "Rows: 13,611\n",
            "Columns: 17\n",
            "$ Area            <dbl> 28395, 28734, 29380, 30008, 30140, 30279, 30477, 30519…\n",
            "$ Perimeter       <dbl> 610.291, 638.018, 624.110, 645.884, 620.134, 634.927, …\n",
            "$ MajorAxisLength <dbl> 208.1781, 200.5248, 212.8261, 210.5580, 201.8479, 212.…\n",
            "$ MinorAxisLength <dbl> 173.8887, 182.7344, 175.9311, 182.5165, 190.2793, 181.…\n",
            "$ AspectRation    <dbl> 1.197191, 1.097356, 1.209713, 1.153638, 1.060798, 1.17…\n",
            "$ Eccentricity    <dbl> 0.5498122, 0.4117853, 0.5627273, 0.4986160, 0.3336797,…\n",
            "$ ConvexArea      <dbl> 28715, 29172, 29690, 30724, 30417, 30600, 30970, 30847…\n",
            "$ EquivDiameter   <dbl> 190.1411, 191.2728, 193.4109, 195.4671, 195.8965, 196.…\n",
            "$ Extent          <dbl> 0.7639225, 0.7839681, 0.7781132, 0.7826813, 0.7730980,…\n",
            "$ Solidity        <dbl> 0.9888560, 0.9849856, 0.9895588, 0.9766957, 0.9908933,…\n",
            "$ roundness       <dbl> 0.9580271, 0.8870336, 0.9478495, 0.9039364, 0.9848771,…\n",
            "$ Compactness     <dbl> 0.9133578, 0.9538608, 0.9087742, 0.9283288, 0.9705155,…\n",
            "$ ShapeFactor1    <dbl> 0.007331506, 0.006978659, 0.007243912, 0.007016729, 0.…\n",
            "$ ShapeFactor2    <dbl> 0.003147289, 0.003563624, 0.003047733, 0.003214562, 0.…\n",
            "$ ShapeFactor3    <dbl> 0.8342224, 0.9098505, 0.8258706, 0.8617944, 0.9419004,…\n",
            "$ ShapeFactor4    <dbl> 0.9987239, 0.9984303, 0.9990661, 0.9941988, 0.9991661,…\n",
            "$ Class           <chr> \"SEKER\", \"SEKER\", \"SEKER\", \"SEKER\", \"SEKER\", \"SEKER\", …\n"
          ]
        }
      ]
    },
    {
      "cell_type": "code",
      "source": [
        "%%R\n",
        "t(summary(data))"
      ],
      "metadata": {
        "colab": {
          "base_uri": "https://localhost:8080/"
        },
        "id": "fXRu-CQjcSB7",
        "outputId": "b1c24bcc-f807-4601-9ae7-7e4324bf1d1c"
      },
      "execution_count": 42,
      "outputs": [
        {
          "output_type": "stream",
          "name": "stdout",
          "text": [
            "                                                                           \n",
            "     Area       Min.   : 20420      1st Qu.: 36328      Median : 44652     \n",
            "  Perimeter     Min.   : 524.7      1st Qu.: 703.5      Median : 794.9     \n",
            "MajorAxisLength Min.   :183.6       1st Qu.:253.3       Median :296.9      \n",
            "MinorAxisLength Min.   :122.5       1st Qu.:175.8       Median :192.4      \n",
            " AspectRation   Min.   :1.025       1st Qu.:1.432       Median :1.551      \n",
            " Eccentricity   Min.   :0.2190      1st Qu.:0.7159      Median :0.7644     \n",
            "  ConvexArea    Min.   : 20684      1st Qu.: 36714      Median : 45178     \n",
            "EquivDiameter   Min.   :161.2       1st Qu.:215.1       Median :238.4      \n",
            "    Extent      Min.   :0.5553      1st Qu.:0.7186      Median :0.7599     \n",
            "   Solidity     Min.   :0.9192      1st Qu.:0.9857      Median :0.9883     \n",
            "  roundness     Min.   :0.4896      1st Qu.:0.8321      Median :0.8832     \n",
            " Compactness    Min.   :0.6406      1st Qu.:0.7625      Median :0.8013     \n",
            " ShapeFactor1   Min.   :0.002778    1st Qu.:0.005900    Median :0.006645   \n",
            " ShapeFactor2   Min.   :0.0005642   1st Qu.:0.0011535   Median :0.0016935  \n",
            " ShapeFactor3   Min.   :0.4103      1st Qu.:0.5814      Median :0.6420     \n",
            " ShapeFactor4   Min.   :0.9477      1st Qu.:0.9937      Median :0.9964     \n",
            "   Class        Length:13611        Class :character    Mode  :character   \n",
            "                                                                           \n",
            "     Area       Mean   : 53048      3rd Qu.: 61332      Max.   :254616     \n",
            "  Perimeter     Mean   : 855.3      3rd Qu.: 977.2      Max.   :1985.4     \n",
            "MajorAxisLength Mean   :320.1       3rd Qu.:376.5       Max.   :738.9      \n",
            "MinorAxisLength Mean   :202.3       3rd Qu.:217.0       Max.   :460.2      \n",
            " AspectRation   Mean   :1.583       3rd Qu.:1.707       Max.   :2.430      \n",
            " Eccentricity   Mean   :0.7509      3rd Qu.:0.8105      Max.   :0.9114     \n",
            "  ConvexArea    Mean   : 53768      3rd Qu.: 62294      Max.   :263261     \n",
            "EquivDiameter   Mean   :253.1       3rd Qu.:279.4       Max.   :569.4      \n",
            "    Extent      Mean   :0.7497      3rd Qu.:0.7869      Max.   :0.8662     \n",
            "   Solidity     Mean   :0.9871      3rd Qu.:0.9900      Max.   :0.9947     \n",
            "  roundness     Mean   :0.8733      3rd Qu.:0.9169      Max.   :0.9907     \n",
            " Compactness    Mean   :0.7999      3rd Qu.:0.8343      Max.   :0.9873     \n",
            " ShapeFactor1   Mean   :0.006564    3rd Qu.:0.007271    Max.   :0.010451   \n",
            " ShapeFactor2   Mean   :0.0017159   3rd Qu.:0.0021703   Max.   :0.0036650  \n",
            " ShapeFactor3   Mean   :0.6436      3rd Qu.:0.6960      Max.   :0.9748     \n",
            " ShapeFactor4   Mean   :0.9951      3rd Qu.:0.9979      Max.   :0.9997     \n",
            "   Class                                                                   \n"
          ]
        }
      ]
    }
  ]
}